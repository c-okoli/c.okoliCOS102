{
 "cells": [
  {
   "cell_type": "code",
   "execution_count": 1,
   "id": "f4b07f4b-6d0a-44e5-92e4-af337c4ccd37",
   "metadata": {},
   "outputs": [
    {
     "name": "stdout",
     "output_type": "stream",
     "text": [
      "Please select an option\n",
      "1. Quadratic Equation\n",
      "2. Cubic Equation\n",
      "3. Quartic Equation\n"
     ]
    },
    {
     "name": "stdin",
     "output_type": "stream",
     "text": [
      "Enter corresponding number 1\n",
      "input a 2\n",
      "input b 3\n",
      "input c 5\n"
     ]
    },
    {
     "name": "stdout",
     "output_type": "stream",
     "text": [
      "Cannot find square root of number\n"
     ]
    }
   ],
   "source": [
    "import math\n",
    "\n",
    "print(\"Please select an option\")\n",
    "print(\"1. Quadratic Equation\")\n",
    "print(\"2. Cubic Equation\")\n",
    "print(\"3. Quartic Equation\")\n",
    "\n",
    "option = int(input(\"Enter corresponding number\"))\n",
    "\n",
    "if option == 1 :\n",
    "    quad_input1 = float(input(\"input a\"))\n",
    "    quad_input2 = float(input(\"input b\"))\n",
    "    quad_input3 = float(input(\"input c\"))\n",
    "    value_1 = (quad_input2 ** 2.0) - (4.0 * quad_input1 * quad_input3)\n",
    "    \n",
    "    if value_1 >= 0.0:\n",
    "        sqrt = math.sqrt(value_1)\n",
    "        value_2 = (quad_input2 * -1.0) + sqrt\n",
    "        value_3 = (quad_input2 * -1.0) - sqrt\n",
    "        value_4 = value_2/(2.0 * quad_input1)\n",
    "        value_5 = value_3/(2.0 * quad_input1)\n",
    "        print(f\"The 2 values of x in the equation are {value_4} and {value_5}\")\n",
    "    else:\n",
    "        print(\"Cannot find square root of number\")\n",
    "        \n",
    "elif option == 2:\n",
    "    print(\"Not Available\")\n",
    "    \n",
    "elif option == 3:\n",
    "    print(\"Not Available\")\n",
    "    \n",
    "else:\n",
    "    print(\"Invalid input\")"
   ]
  },
  {
   "cell_type": "code",
   "execution_count": null,
   "id": "03195f0a-0aaa-410c-ad98-b692636c4a20",
   "metadata": {},
   "outputs": [],
   "source": []
  },
  {
   "cell_type": "code",
   "execution_count": null,
   "id": "7f654d21-9097-4fce-9921-039613576d42",
   "metadata": {},
   "outputs": [],
   "source": []
  },
  {
   "cell_type": "code",
   "execution_count": null,
   "id": "e6a4d456-b992-4e3a-bc82-61d367a61152",
   "metadata": {},
   "outputs": [],
   "source": []
  }
 ],
 "metadata": {
  "kernelspec": {
   "display_name": "Python 3 (ipykernel)",
   "language": "python",
   "name": "python3"
  },
  "language_info": {
   "codemirror_mode": {
    "name": "ipython",
    "version": 3
   },
   "file_extension": ".py",
   "mimetype": "text/x-python",
   "name": "python",
   "nbconvert_exporter": "python",
   "pygments_lexer": "ipython3",
   "version": "3.11.7"
  }
 },
 "nbformat": 4,
 "nbformat_minor": 5
}
