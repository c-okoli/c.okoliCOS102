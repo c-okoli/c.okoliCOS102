{
 "cells": [
  {
   "cell_type": "code",
   "execution_count": 2,
   "id": "110df2bf-73c3-488a-be79-77cae3bc7f21",
   "metadata": {},
   "outputs": [
    {
     "name": "stdout",
     "output_type": "stream",
     "text": [
      "Girls Information\n",
      "Evelyn | 17 | 5.5 | 80 |\n",
      "Jessica | 16 | 6.0 | 85 |\n",
      "Somto | 17 | 5.4 | 70 |\n",
      "Edith | 18 | 5.9 | 60 |\n",
      "Liza | 16 | 5.6 | 76 |\n",
      "Madonna | 18 | 5.5 | 66 |\n",
      "Waje | 17 | 6.1 | 87 |\n",
      "Tola | 20 | 6.0 | 95 |\n",
      "Aisha | 19 | 5.7 | 50 |\n",
      "Latifa | 17 | 5.5 | 49 |\n",
      "Boys Information\n",
      "Chinedu | 19 | 5.7 | 74 |\n",
      "Liam | 16 | 5.9 | 87 |\n",
      "Wale | 18 | 5.8 | 75 |\n",
      "Gbenga | 17 | 6.1 | 68 |\n",
      "Abiola | 20 | 5.9 | 66 |\n",
      "Kola | 19 | 5.5 | 78 |\n",
      "Kunle | 16 | 6.1 | 87 |\n",
      "George | 18 | 5.4 | 98 |\n",
      "Thomas | 17 | 5.8 | 54 |\n",
      "Wesley | 19 | 5.7 | 60 |\n"
     ]
    }
   ],
   "source": [
    "print(\"Girls Information\")\n",
    "girls_name = [\"Evelyn\", \"Jessica\", \"Somto\", \"Edith\", \"Liza\", \"Madonna\", \"Waje\", \"Tola\", \"Aisha\", \"Latifa\"]\n",
    "girls_age = [17, 16, 17, 18, 16, 18, 17, 20, 19, 17]\n",
    "girls_height = [5.5, 6.0, 5.4, 5.9, 5.6, 5.5, 6.1, 6.0, 5.7, 5.5]\n",
    "girls_scores = [80, 85, 70, 60, 76, 66, 87, 95, 50, 49]\n",
    "\n",
    "for info in range(10):\n",
    "    print(girls_name[info], \"|\", girls_age[info], \"|\", girls_height[info], \"|\", girls_scores[info], \"|\")\n",
    "\n",
    "print(\"Boys Information\")\n",
    "boys_name = [\"Chinedu\", \"Liam\", \"Wale\", \"Gbenga\", \"Abiola\", \"Kola\", \"Kunle\", \"George\", \"Thomas\", \"Wesley\"]\n",
    "boys_age = [19, 16, 18, 17, 20, 19, 16, 18, 17, 19]\n",
    "boys_height = [5.7, 5.9, 5.8, 6.1, 5.9, 5.5, 6.1, 5.4, 5.8, 5.7]\n",
    "boys_scores = [74, 87, 75, 68, 66, 78, 87, 98, 54, 60]\n",
    "\n",
    "for info in range(10):\n",
    "    print(boys_name[info], \"|\", boys_age[info], \"|\", boys_height[info], \"|\", boys_scores[info], \"|\")\n",
    "    "
   ]
  },
  {
   "cell_type": "code",
   "execution_count": null,
   "id": "ee6a07d9-6c00-45e5-8205-984c5e79e88f",
   "metadata": {},
   "outputs": [],
   "source": []
  }
 ],
 "metadata": {
  "kernelspec": {
   "display_name": "Python 3 (ipykernel)",
   "language": "python",
   "name": "python3"
  },
  "language_info": {
   "codemirror_mode": {
    "name": "ipython",
    "version": 3
   },
   "file_extension": ".py",
   "mimetype": "text/x-python",
   "name": "python",
   "nbconvert_exporter": "python",
   "pygments_lexer": "ipython3",
   "version": "3.11.7"
  }
 },
 "nbformat": 4,
 "nbformat_minor": 5
}
